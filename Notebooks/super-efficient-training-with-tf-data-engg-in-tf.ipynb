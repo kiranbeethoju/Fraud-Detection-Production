{
 "cells": [
  {
   "cell_type": "code",
   "execution_count": 1,
   "metadata": {
    "_cell_guid": "e7d2da75-30af-4a31-8f91-55312eda3f9c",
    "_uuid": "8bd944ef-266f-4e1c-9c32-8f91be8590b7"
   },
   "outputs": [
    {
     "name": "stdout",
     "output_type": "stream",
     "text": [
      "/kaggle/input/creditcardfraud/creditcard.csv\n"
     ]
    }
   ],
   "source": [
    "# This Python 3 environment comes with many helpful analytics libraries installed\n",
    "# It is defined by the kaggle/python Docker image: https://github.com/kaggle/docker-python\n",
    "# For example, here's several helpful packages to load\n",
    "\n",
    "import numpy as np # linear algebra\n",
    "import pandas as pd # data processing, CSV file I/O (e.g. pd.read_csv)\n",
    "\n",
    "# Input data files are available in the read-only \"../input/\" directory\n",
    "# For example, running this (by clicking run or pressing Shift+Enter) will list all files under the input directory\n",
    "\n",
    "import os\n",
    "for dirname, _, filenames in os.walk('/kaggle/input'):\n",
    "    for filename in filenames:\n",
    "        print(os.path.join(dirname, filename))\n",
    "\n",
    "# You can write up to 5GB to the current directory (/kaggle/working/) that gets preserved as output when you create a version using \"Save & Run All\" \n",
    "# You can also write temporary files to /kaggle/temp/, but they won't be saved outside of the current session"
   ]
  },
  {
   "cell_type": "markdown",
   "execution_count": null,
   "metadata": {
    "_cell_guid": "2fa0f2eb-1706-4140-ab29-7a71596296e8",
    "_uuid": "5bd35a3b-4636-4a60-9c26-69439fedd0d5"
   },
   "source": [
    "# Work Extension https://www.kaggle.com/rohandx1996/v-auto-encoder-vs-frauds-on-imbalance-data-wins\n",
    "\n",
    "### so here in this kernel i would like demonstrate some advance methods of Tensorflow framework to fasten up training process with parallelization of cpu gpu schedulling with primary focus on data engg (tf records) and tf.data api (data input pipelines)"
   ]
  },
  {
   "cell_type": "markdown",
   "execution_count": null,
   "metadata": {
    "_cell_guid": "d6e76b40-9a64-4e35-b85d-9d3799044992",
    "_uuid": "9ac9cd6b-36f7-48e0-a0bc-7f1fb2cf46fd"
   },
   "source": [
    "![](https://pbs.twimg.com/media/D_6npzuUIAA3WZG.jpg)"
   ]
  },
  {
   "cell_type": "markdown",
   "execution_count": null,
   "metadata": {
    "_cell_guid": "bea331b9-3dc7-4ca6-a2f7-3078ac60a675",
    "_uuid": "6d53324e-de71-42f6-bff9-29afe4e739c6"
   },
   "source": [
    "So guys my above kernel explains why I have chosen auto-encoder as for classifying fraud cases but as you can see that training of this model requires lot of computation time atleast 10 minutes on kaggle's gpu.\n",
    "we have to move towards some faster solution not to save our training time but to save company resources as well sometimes even in kaggle competition time contsraint issues can be solved if training can be done much more faster ways\n",
    "\n",
    "* but is just not about winining kaggle competition it is about real time working (model deployment should be done in Tensorflow)\n",
    "\n",
    "* because in the end it's all about scalability ,  request response in real-time and model's reliablity over it's metrics"
   ]
  },
  {
   "cell_type": "markdown",
   "execution_count": null,
   "metadata": {
    "_cell_guid": "cd68a892-0ac4-410a-b5d2-d13fcd3c65e7",
    "_uuid": "659bebc3-5335-4e28-b12b-08ae92d707e6"
   },
   "source": [
    "### let's start with explaining what advance methods we will be using and it's code implication part \n",
    "### so that you won't miss any of it \n",
    "\n",
    "1. #### Step 1 : Script to split data in train test and validation data \n",
    "1. #### Step 2 : Conversion of data dirs to Tf records (data engg)\n",
    "1. #### Step 3 : Using tf.data api for construction of data input pipeline (data engg)\n",
    "1. #### Step 4 : tf.flags and namescopes are indeed for naming of layers hyper-parameter initialization \n",
    "1. #### Step 5 : Some more methods how we can speed up cpu gpu scheduling (feeding Steriods)"
   ]
  },
  {
   "cell_type": "markdown",
   "execution_count": null,
   "metadata": {
    "_cell_guid": "2140fdc3-9364-4ee7-b916-d1aec12c77af",
    "_uuid": "b95e9e01-c79b-48b0-b43a-3e7324d4c14c"
   },
   "source": [
    "### we will be first writing script to split our dataset in 3 parts train , test , validation after that it will be converted in Tf records"
   ]
  },
  {
   "cell_type": "markdown",
   "execution_count": null,
   "metadata": {
    "_cell_guid": "93bf3fac-d3c5-4fdf-ac75-9fbaf8ccd957",
    "_uuid": "25f0e830-d0a9-40f1-bf3f-090628c04eb8"
   },
   "source": [
    "# What are tf records ? how it help us to optimize computaiton power ?"
   ]
  },
  {
   "cell_type": "markdown",
   "execution_count": null,
   "metadata": {
    "_cell_guid": "8426296f-3d47-4ea7-98f1-e3ead4e49bc8",
    "_uuid": "38dc0ba0-0afe-4a4d-b3c7-9eeba553e25e"
   },
   "source": [
    "A TFRecord file stores your data as a sequence of binary strings. This means you need to specify the structure of your data before you write it to the file. Tensorflow provides two components for this purpose: tf.train.Example and tf.train.SequenceExample. You have to store each sample of your data in one of these structures, then serialize it and use a tf.python_io.TFRecordWriter to write it to disk."
   ]
  },
  {
   "cell_type": "markdown",
   "execution_count": null,
   "metadata": {
    "_cell_guid": "180a047e-4e9f-4da5-a474-38d701a504f5",
    "_uuid": "610d0a8f-d821-4ed3-ba85-64eda8dd7117"
   },
   "source": [
    "If you are working with large datasets, using a binary file format for storage of your data can have a significant impact on the performance of your import pipeline and as a consequence on the training time of your model. Binary data takes up less space on disk, takes less time to copy and can be read much more efficiently from disk. This is especially true if your data is stored on spinning disks, due to the much lower read/write performance in comparison with SSDs."
   ]
  },
  {
   "cell_type": "markdown",
   "execution_count": null,
   "metadata": {
    "_cell_guid": "779ee525-8b7a-41eb-ad1f-d979549ca3e3",
    "_uuid": "497eec46-4848-4b34-b231-bee6add423aa"
   },
   "source": [
    "To start with, it makes easy to combine multiple datasets and integrates seamlessly with the data import and preprocessing functionality provided by the library. Especially for datasets that are too large to be stored fully in memory this is an advantage as only the data that is required at the time (e.g. a batch) is loaded from disk and then processed."
   ]
  },
  {
   "cell_type": "markdown",
   "execution_count": null,
   "metadata": {
    "_cell_guid": "b2861ec9-9b9a-4d62-bed1-e93b023ed4f4",
    "_uuid": "fa6a3634-7afe-4e7b-b64c-3bc715c6cfae"
   },
   "source": [
    "![](http://digital-thinking.de/wp-content/uploads/2019/07/KerasGPU.gif)\n",
    "#### with keras gpu utlization it shows gpu is waiting for something but what it is actually is the data which need to get preprocessed first"
   ]
  },
  {
   "cell_type": "markdown",
   "execution_count": null,
   "metadata": {
    "_cell_guid": "7e447ada-b501-42c5-be55-957298a70c19",
    "_uuid": "34045a3b-759f-4994-937f-d088fe58990d"
   },
   "source": [
    "![](http://digital-thinking.de/wp-content/uploads/2019/07/tensorflow.gif)\n",
    "### with tensorflow records gpu utilization (apart from that we use other methods)to control cpu and gpu to make this parallelization process to achieve next level"
   ]
  },
  {
   "cell_type": "markdown",
   "execution_count": null,
   "metadata": {
    "_cell_guid": "cf917eca-2a8f-47e2-9f2f-91684990fb01",
    "_uuid": "383c855d-f752-4c11-9ebd-ed5d3b54de7f"
   },
   "source": [
    "# Spliting"
   ]
  },
  {
   "cell_type": "markdown",
   "execution_count": null,
   "metadata": {
    "_cell_guid": "04c466aa-8042-4889-b476-d6bce3e6b284",
    "_uuid": "5237984b-0e9d-4c76-bcfa-c3c83aed19f9"
   },
   "source": [
    "### Splitting Dataset as per requirement for training this auto-encoder (reason of split already explained in my earlier notebooks link given above)"
   ]
  },
  {
   "cell_type": "code",
   "execution_count": 2,
   "metadata": {
    "_cell_guid": "669fb098-8b17-4bb7-b89f-0fafc34ffe5b",
    "_uuid": "da19af2a-4fec-4e78-8f2d-93673107babc"
   },
   "outputs": [],
   "source": [
    "import pandas as pd\n",
    "from sklearn.preprocessing import MinMaxScaler\n",
    "from sklearn.model_selection import train_test_split\n",
    "import os\n",
    "\n",
    "train_data_dir='../input/creditcardfraud/creditcard.csv'\n",
    "\n",
    "def get_data():\n",
    "    \n",
    "    # Import the csv data as pands's dataframe\n",
    "    data=pd.read_csv(train_data_dir)\n",
    "    min_max_scaler=MinMaxScaler()\n",
    "    #Create an instance of sklearn's MinMaxScalar and use it to map the feature values in the range [0,1]\n",
    "    df_cred=data.drop(\"Time\",axis=1)\n",
    "    df_cred_scaled = min_max_scaler.fit_transform(df_cred.iloc[:,:-1])\n",
    "    df_cred_normalized = pd.DataFrame(df_cred_scaled)\n",
    "    \n",
    "    df_cred_normalized[\"Class\"]=df_cred[\"Class\"]\n",
    "    \n",
    "    print(\"class count : \",df_cred_normalized[\"Class\"].value_counts())\n",
    "    \n",
    "    # train and test splits process initiated \n",
    "    df_cred_normalized_train=df_cred_normalized[df_cred_normalized[\"Class\"]==0]\n",
    "    df_cred_normalized_test=df_cred_normalized[df_cred_normalized[\"Class\"]==1]\n",
    "    \n",
    "    # taking out 10 percent sample out of train set and to feed in test and validation set  \n",
    "    df_cred_normalized_test_part_1=df_cred_normalized_train.sample(frac=0.05)\n",
    "    df_cred_normalized_train=df_cred_normalized_train.drop(df_cred_normalized_test_part_1.index)\n",
    "    df_cred_normalized_test_part_2=df_cred_normalized_train.sample(frac=0.05)\n",
    "    df_cred_normalized_train=df_cred_normalized_train.drop(df_cred_normalized_test_part_2.index)\n",
    "    \n",
    "    # frauds cases in test and validation set as dicsussed earlier \n",
    "    df_cred_normalized_test_class_1=df_cred_normalized_test.sample(frac=0.5)\n",
    "    df_cred_normalized_validation_class_1=df_cred_normalized_test.drop(df_cred_normalized_test_class_1.index)\n",
    "    \n",
    "    print(\"fraud cases shape : \",df_cred_normalized_test_class_1.shape)\n",
    "    \n",
    "    df_cred_normalized_test_set=df_cred_normalized_test_part_1.append(df_cred_normalized_test_class_1)\n",
    "    df_cred_normalized_validation_set=df_cred_normalized_test_part_2.append(df_cred_normalized_validation_class_1)\n",
    "    \n",
    "    print(\"train set dimensions :\",df_cred_normalized_train.shape)\n",
    "    print(\"test set dimensions :\",df_cred_normalized_test_set.shape)\n",
    "    print(\"validate set dimensions :\",df_cred_normalized_validation_set.shape)\n",
    "    \n",
    "    print(\"class counts on validation set\")\n",
    "    print(df_cred_normalized_validation_set[\"Class\"].value_counts())\n",
    "    \n",
    "    x_train, x_test = train_test_split(df_cred_normalized_train, test_size=0.2, random_state=2020)\n",
    "    x_train = x_train[x_train.Class == 0]\n",
    "    y_train = x_train[\"Class\"]\n",
    "    x_train = x_train.drop(['Class'], axis=1)\n",
    "    y_test = x_test['Class']\n",
    "    x_test = x_test.drop(['Class'], axis=1)\n",
    "    x_train = x_train.values\n",
    "    x_test = x_test.values\n",
    "    print(\"train data set shape\")\n",
    "    print(x_train.shape)\n",
    "    print(\"test data set shape\")\n",
    "    print(x_test.shape)\n",
    "    y_train = y_train.values\n",
    "    y_test = y_test.values\n",
    "    \n",
    "    x_val_set_1=df_cred_normalized_test_set.iloc[:,:-1]\n",
    "    y_val_set_1=df_cred_normalized_test_set[\"Class\"]\n",
    "    x_val_set_1=x_val_set_1.values\n",
    "    y_val_set_1=y_val_set_1.values\n",
    "    \n",
    "    x_val_set_2=df_cred_normalized_validation_set.iloc[:,:-1]\n",
    "    y_val_set_2=df_cred_normalized_validation_set[\"Class\"]\n",
    "    x_val_set_2=x_val_set_2.values\n",
    "    y_val_set_2=y_val_set_2.values\n",
    "        \n",
    "    return [x_train, y_train], [x_test, y_test] ,[x_val_set_1,y_val_set_1],[x_val_set_2,y_val_set_2]"
   ]
  },
  {
   "cell_type": "markdown",
   "execution_count": null,
   "metadata": {
    "_cell_guid": "6558534c-df37-4585-acaf-28ee94e9cd02",
    "_uuid": "7035e8ab-f1c5-4a00-9f77-23233d2ccfa0"
   },
   "source": [
    "# TF Record writer"
   ]
  },
  {
   "cell_type": "code",
   "execution_count": 3,
   "metadata": {
    "_cell_guid": "a5f1511a-d0e9-4059-aa9f-5de4b5279c13",
    "_uuid": "e5c4f73f-a507-4b3a-b1a3-4ff8cc3ccd82"
   },
   "outputs": [],
   "source": [
    "import os\n",
    "import tensorflow.compat.v1 as tf\n",
    "tf.disable_v2_behavior()\n",
    "import sys\n",
    "from random import shuffle\n",
    "import pandas as pd"
   ]
  },
  {
   "cell_type": "code",
   "execution_count": 4,
   "metadata": {
    "_cell_guid": "da92b175-38a7-4001-88ff-a89c5702d5a3",
    "_uuid": "ca185e58-35e2-4487-bfa9-f2ef2b7a62d0"
   },
   "outputs": [],
   "source": [
    "rm -rf \"/kaggle/working/tf_records_root_dir/\""
   ]
  },
  {
   "cell_type": "code",
   "execution_count": 5,
   "metadata": {
    "_cell_guid": "9640c421-1b1b-4243-a2a8-bd764b72053c",
    "_uuid": "d5b6a94d-16c6-46dd-ae40-99f37cc6d159"
   },
   "outputs": [],
   "source": [
    "os.mkdir(\"/kaggle/working/tf_records_root_dir\")\n",
    "os.mkdir(\"/kaggle/working/tf_records_root_dir/tf_records_train\")\n",
    "os.mkdir(\"/kaggle/working/tf_records_root_dir/tf_records_test\")\n",
    "os.mkdir(\"/kaggle/working/tf_records_root_dir/tf_records_validation_set_1\")\n",
    "os.mkdir(\"/kaggle/working/tf_records_root_dir/tf_records_validation_set_2\")"
   ]
  },
  {
   "cell_type": "code",
   "execution_count": 6,
   "metadata": {
    "_cell_guid": "25d2a94b-6894-45c3-a6f3-2369d0147c70",
    "_uuid": "1bc254e5-9be6-4e3b-82ef-6b01714f03cb"
   },
   "outputs": [
    {
     "name": "stdout",
     "output_type": "stream",
     "text": [
      "class count :  0    284315\n",
      "1       492\n",
      "Name: Class, dtype: int64\n",
      "fraud cases shape :  (246, 30)\n",
      "train set dimensions : (256594, 30)\n",
      "test set dimensions : (14462, 30)\n",
      "validate set dimensions : (13751, 30)\n",
      "class counts on validation set\n",
      "0    13505\n",
      "1      246\n",
      "Name: Class, dtype: int64\n",
      "train data set shape\n",
      "(205275, 29)\n",
      "test data set shape\n",
      "(51319, 29)\n",
      ">> Converting data instance 6478/205275"
     ]
    }
   ],
   "source": [
    "def float_feature(value):\n",
    "    ''' Helper function that wraps float features into the tf.train.Feature class \n",
    "    \n",
    "    @param value: the feature or label of type float, that we want to convert \n",
    "    '''\n",
    "    \n",
    "    if not isinstance(value, list):\n",
    "        value = [value]\n",
    "    return tf.train.Feature(float_list=tf.train.FloatList(value=value))\n",
    "\n",
    "def int64_feature(value):\n",
    "    ''' Helper function that wraps integer features into the tf.train.Feature class \n",
    "    \n",
    "    @param value: the feature or label of type integer, that we want to convert \n",
    "    '''\n",
    "    \n",
    "    if not isinstance(value, list):\n",
    "        value = [value]\n",
    "    return tf.train.Feature(int64_list=tf.train.Int64List(value=value))\n",
    "\n",
    "\n",
    "def write_tf_records_file(x, y, tf_writer,data_type):\n",
    "    '''This function writes a feature-label pair to a TF-Records file\n",
    "    \n",
    "    @param x: the feature\n",
    "    @param y: the label\n",
    "    @ tf_writer: the TensorFlow Records writer instance that writes the files\n",
    "    '''\n",
    "    \n",
    "    # Convert numpy array to list, because tf.train.Feature accepts only lists\n",
    "    x=x.tolist()\n",
    "    #Features we want to convert to the binary format\n",
    "    feature_dict={ 'features': float_feature(x),\n",
    "                   'labels': float_feature(y),                         \n",
    "                 }\n",
    "\n",
    "    #Another wrapper class\n",
    "    features_wrapper=tf.train.Features(feature=feature_dict) \n",
    "    # Aaaand another wrapper class lol\n",
    "    example = tf.train.Example(features=features_wrapper)\n",
    "\n",
    "    # Finally we make the files binary and write them to TF-Records file\n",
    "    tf_writer.write(example.SerializeToString())\n",
    "\n",
    "\n",
    "\n",
    "def run(tf_records_dir, data, data_type=None):\n",
    "    '''Main function for the writing process\n",
    "    \n",
    "    @param tf_records_dir: path where the files should be written into\n",
    "    @param data: the dataset that contains the features and labels\n",
    "    '''\n",
    "    \n",
    "    # If the directory is not present, create one\n",
    "    \n",
    "      \n",
    "    #Get the features and labels from the dataset\n",
    "    features=data[0]\n",
    "    labels=data[1]\n",
    "    # Number of instances in the dataset\n",
    "    n_data_instances=features.shape[0]\n",
    "    # Initialize a counter for the data instances\n",
    "    data_instance_counter=0\n",
    "    \n",
    "    # Specify the number of samples that will be saved in one TF-Records file\n",
    "    samples_per_file=500\n",
    "    \n",
    "    # Number of all TF-Records files in the end\n",
    "    n_tf_records_files=round(n_data_instances/samples_per_file)\n",
    "    # Counter for the TF-Records files\n",
    "    tf_records_counter=0\n",
    "    \n",
    "   \n",
    "    #Iterate over the number of total TF-Records files\n",
    "    while tf_records_counter < n_tf_records_files:\n",
    "\n",
    "        # Give each file an unique name(full-path)\n",
    "        tfrecords_file_name='%s/%s_%i.tfrecord' % (tf_records_dir, data_type, tf_records_counter)\n",
    "\n",
    "        #Initialize a writer for the files\n",
    "        with tf.python_io.TFRecordWriter(tfrecords_file_name) as tf_writer:\n",
    "            \n",
    "            sample_counter=0\n",
    "\n",
    "            #Iterate over all data samples and number of samples per TF-Records file\n",
    "            while data_instance_counter<n_data_instances and sample_counter<samples_per_file:\n",
    "                \n",
    "                sys.stdout.write('\\r>> Converting data instance %d/%d' % (data_instance_counter+1, n_data_instances))\n",
    "                sys.stdout.flush()\n",
    " \n",
    "                # Extract a feature instance\n",
    "                x=features[data_instance_counter]\n",
    "                # Extract a label instance\n",
    "                y=labels[data_instance_counter]\n",
    "                \n",
    "                # Write feature and label to a TF-Records file\n",
    "                write_tf_records_file(x,y,tf_writer,data_type)\n",
    "\n",
    "                # Increase the counters\n",
    "                data_instance_counter+=1\n",
    "                sample_counter+=1\n",
    "                \n",
    "            tf_records_counter+=1\n",
    "            \n",
    "    print('\\nFinished converting the dataset!')\n",
    "    \n",
    "    \n",
    "if __name__ == \"__main__\":\n",
    "    \n",
    "    # Build the paths for the training, test, and validation TF-Records files\n",
    "    tf_records_root_dir='/kaggle/working/tf_records_root_dir/'\n",
    "    train_dir = os.path.join(tf_records_root_dir, 'tf_records_train')\n",
    "    test_dir = os.path.join(tf_records_root_dir, 'tf_records_test')\n",
    "    validation_dir_set_1 = os.path.join(tf_records_root_dir, 'tf_records_validation_set_1')\n",
    "    validation_dir_set_2 = os.path.join(tf_records_root_dir, 'tf_records_validation_set_2')\n",
    "    \n",
    "    # Get the preprocessed data \n",
    "    train_data, test_data ,validation_set_1,validation_set_2=get_data()    \n",
    "    #Write for each dataset TF-Records file\n",
    "    run(train_dir, train_data, data_type='training')\n",
    "    run(test_dir, test_data, data_type='test')\n",
    "    run(validation_dir_set_1, validation_set_1, data_type='validation_1')\n",
    "    run(validation_dir_set_2, validation_set_2, data_type='validation_2')"
   ]
  },
  {
   "cell_type": "code",
   "execution_count": 7,
   "metadata": {
    "_cell_guid": "032bb5d1-1d3e-44d3-b500-8d46891be9d6",
    "_uuid": "7ab07561-eefd-4c43-9e71-36a748f9c682"
   },
   "outputs": [],
   "source": [
    "train_sample=199364\n",
    "validate_sample=28453\n",
    "test_sample=56990"
   ]
  },
  {
   "cell_type": "code",
   "execution_count": 8,
   "metadata": {
    "_cell_guid": "92a09f4f-dda0-46ea-b267-c7814ed93387",
    "_uuid": "0502b24e-a286-4d95-bfd9-20589415998e"
   },
   "outputs": [],
   "source": [
    "def get_training_data(filepaths):\n",
    "    '''Prepares training dataset with the tf-data API for the input pipeline.\n",
    "    Reads TensorFlow Records files from the harddrive and applies several\n",
    "    transformations to the files, like mini-batching, shuffling etc.\n",
    "    \n",
    "    @return dataset: the training dataset\n",
    "    '''\n",
    "    \n",
    "    filenames=['/kaggle/working/tf_records_root_dir/tf_records_train/'+f for f in os.listdir(filepaths)]\n",
    "    \n",
    "    dataset = tf.data.TFRecordDataset(filenames,num_parallel_reads=32)\n",
    "    dataset = dataset.map(parse,num_parallel_calls=4)\n",
    "    dataset = dataset.shuffle(buffer_size=205275)\n",
    "    dataset = dataset.repeat()\n",
    "    dataset = dataset.batch(batch_size=64)\n",
    "    dataset = dataset.prefetch(buffer_size=16)\n",
    "    \n",
    "    return dataset\n",
    " \n",
    "\n",
    "\n",
    "def get_test_data(filepaths):\n",
    "    '''Prepares validation dataset with the tf-data API for the input pipeline.\n",
    "    Reads TensorFlow Records files from the harddrive and applies several\n",
    "    transformations to the files, like mini-batching, shuffling etc.\n",
    "    \n",
    "    @return dataset: the validation dataset\n",
    "    '''\n",
    "    \n",
    "    filenames=['/kaggle/working/tf_records_root_dir/tf_records_test/'+f for f in os.listdir(filepaths)]\n",
    "    \n",
    "    \n",
    "    dataset = tf.data.TFRecordDataset(filenames)\n",
    "    dataset = dataset.map(parse)\n",
    "    dataset = dataset.shuffle(buffer_size=1)\n",
    "    dataset = dataset.repeat()\n",
    "    dataset = dataset.batch(batch_size=51319)\n",
    "    dataset = dataset.prefetch(buffer_size=1)\n",
    "    \n",
    "    return dataset\n",
    "\n",
    "def get_validation_set_1(filepaths):\n",
    "    '''Prepares test dataset with the tf-data API for the input pipeline.\n",
    "    Reads TensorFlow Records files from the harddrive and applies several\n",
    "    transformations to the files, like mini-batching, shuffling etc.\n",
    "    \n",
    "    @return dataset: the test dataset\n",
    "    '''\n",
    "    \n",
    "    filenames=['/kaggle/working/tf_records_root_dir/tf_records_validation_set_1/'+f for f in os.listdir(filepaths)]\n",
    "\n",
    "    dataset = tf.data.TFRecordDataset(filenames)\n",
    "    dataset = dataset.map(parse)\n",
    "    dataset = dataset.shuffle(buffer_size=10000)\n",
    "    dataset = dataset.repeat()\n",
    "    dataset = dataset.batch(batch_size=14462)\n",
    "    dataset = dataset.prefetch(buffer_size=1)\n",
    "    \n",
    "    return dataset\n",
    "\n",
    "\n",
    "def get_validation_set_2(filepaths):\n",
    "    '''Prepares test dataset with the tf-data API for the input pipeline.\n",
    "    Reads TensorFlow Records files from the harddrive and applies several\n",
    "    transformations to the files, like mini-batching, shuffling etc.\n",
    "    \n",
    "    @return dataset: the test dataset\n",
    "    '''\n",
    "    \n",
    "    filenames=['/kaggle/working/tf_records_root_dir/tf_records_validation_set_2/'+f for f in os.listdir(filepaths)]\n",
    "\n",
    "    dataset = tf.data.TFRecordDataset(filenames)\n",
    "    dataset = dataset.map(parse)\n",
    "    dataset = dataset.shuffle(buffer_size=10000)\n",
    "    dataset = dataset.repeat()\n",
    "    dataset = dataset.batch(batch_size=13751)\n",
    "    dataset = dataset.prefetch(buffer_size=1)\n",
    "    \n",
    "    return dataset\n",
    "\n",
    "\n",
    "def parse(serialized):\n",
    "\n",
    "    features={'features':tf.FixedLenFeature([29], tf.float32),\n",
    "              'labels':tf.FixedLenFeature([1], tf.float32),\n",
    "              }\n",
    "    \n",
    "    \n",
    "    parsed_example=tf.parse_single_example(serialized,\n",
    "                                           features=features,\n",
    "                                           )\n",
    " \n",
    "    features=parsed_example['features']\n",
    "    label = tf.cast(parsed_example['labels'], tf.int32)\n",
    "    \n",
    "    return features, label"
   ]
  },
  {
   "cell_type": "code",
   "execution_count": 9,
   "metadata": {},
   "outputs": [],
   "source": [
    "import time"
   ]
  },
  {
   "cell_type": "code",
   "execution_count": 10,
   "metadata": {
    "_cell_guid": "0cee68c8-fcd1-42c4-9835-a6ad7235cc9c",
    "_uuid": "090c9102-3132-45f5-bc8f-63aee9d92dfd"
   },
   "outputs": [
    {
     "name": "stdout",
     "output_type": "stream",
     "text": [
      "\n",
      "\n",
      "\n",
      "Begin training...\n",
      ">> Training on batch_nr: 1001/3906\n",
      ">> epoch_nr: 1, training_loss: 0.00869 , validation_loss: 0.00167\n",
      ">> Training on batch_nr: 2001/3906\n",
      ">> epoch_nr: 1, training_loss: 0.00168 , validation_loss: 0.00167\n",
      ">> Training on batch_nr: 3001/3906\n",
      ">> epoch_nr: 1, training_loss: 0.00168 , validation_loss: 0.00167\n",
      ">> Training on batch_nr: 1001/3906\n",
      ">> epoch_nr: 2, training_loss: 0.00167 , validation_loss: 0.00166\n",
      ">> Training on batch_nr: 2001/3906\n",
      ">> epoch_nr: 2, training_loss: 0.00167 , validation_loss: 0.00166\n",
      ">> Training on batch_nr: 3001/3906\n",
      ">> epoch_nr: 2, training_loss: 0.00167 , validation_loss: 0.00166\n",
      ">> Training on batch_nr: 1001/3906\n",
      ">> epoch_nr: 3, training_loss: 0.00162 , validation_loss: 0.00157\n",
      ">> Training on batch_nr: 2001/3906\n",
      ">> epoch_nr: 3, training_loss: 0.00151 , validation_loss: 0.00148\n",
      ">> Training on batch_nr: 3001/3906\n",
      ">> epoch_nr: 17, training_loss: 0.00061 , validation_loss: 0.00060\n",
      ">> Training on batch_nr: 1001/3906\n",
      ">> epoch_nr: 18, training_loss: 0.00060 , validation_loss: 0.00060\n",
      ">> Training on batch_nr: 2001/3906\n",
      ">> epoch_nr: 18, training_loss: 0.00060 , validation_loss: 0.00059\n",
      ">> Training on batch_nr: 3001/3906\n",
      ">> epoch_nr: 18, training_loss: 0.00059 , validation_loss: 0.00059\n",
      ">> Training on batch_nr: 207/3906"
     ]
    }
   ],
   "source": [
    "def feed_forward_propagations(data):\n",
    "    a1=tf.nn.sigmoid(tf.nn.bias_add(tf.matmul(data, W1), b1))\n",
    "    a2=tf.nn.sigmoid(tf.nn.bias_add(tf.matmul(a1, W2), b2))\n",
    "    a3=tf.nn.sigmoid(tf.nn.bias_add(tf.matmul(a2, W3), b3))\n",
    "    predictions=tf.matmul(a3, W4)\n",
    "    \n",
    "    return predictions\n",
    "\n",
    "\n",
    "### Define some hyperparameters ###\n",
    "\n",
    "# Number of training samples\n",
    "n_training_samples=250000\n",
    "# Batch size\n",
    "batch_size=64\n",
    "# Learning rate \n",
    "learning_rate=0.001\n",
    "# Number of test data samples\n",
    "n_test_samples=56990\n",
    "# Number of validate samples\n",
    "n_validate_samples=28453\n",
    "# Number of epochs\n",
    "num_epoch=30\n",
    "# number of batches\n",
    "n_batches=64\n",
    "# Evaluate model after number of steps\n",
    "eval_after=1000\n",
    "# Path of the TF Records datasets for the training\n",
    "train_path=\"/kaggle/working/tf_records_root_dir/tf_records_train\"\n",
    "# Path of the TF Records datasets for the testing\n",
    "test_path=\"/kaggle/working/tf_records_root_dir/tf_records_test\"\n",
    "# Path of the TF Records datasets for the validation\n",
    "# Path of the TF Records datasets for the training\n",
    "validation_path_set_1=\"/kaggle/working/tf_records_root_dir/tf_records_validation_set_1\"\n",
    "# Path of the TF Records datasets for the testing\n",
    "validation_path_set_2=\"/kaggle/working/tf_records_root_dir/tf_records_validation_set_2\"\n",
    "# Path of the TF Records datasets for the validation\n",
    "\n",
    "weight_initializer=tf.random_normal_initializer(mean=0, stddev=0.02)\n",
    "bias_initializer=tf.zeros_initializer()\n",
    "\n",
    "n_batches=int(n_training_samples/batch_size)\n",
    "\n",
    "# Define the dataflow graph for the training\n",
    "training_graph=tf.Graph()\n",
    "\n",
    "with training_graph.as_default():\n",
    "\n",
    "    # Access the tf.dataset instance of the tf.data API for the training, \n",
    "    # testing and validation of the model\n",
    "    training_dataset=get_training_data(train_path)\n",
    "    test_dataset=get_test_data(test_path)\n",
    "    validation_dataset_1=get_validation_set_1(validation_path_set_1)\n",
    "    validation_dataset_2=get_validation_set_2(validation_path_set_2)\n",
    "\n",
    "    # build an interator for each dataset to access the elements of the dataset\n",
    "    iterator_train = training_dataset.make_initializable_iterator()\n",
    "    iterator_test = test_dataset.make_initializable_iterator()\n",
    "    iterator_val_1 = validation_dataset_1.make_initializable_iterator()\n",
    "    iterator_val_2 = validation_dataset_2.make_initializable_iterator()\n",
    "\n",
    "    # get the features (x) and labels (y) from the dataset\n",
    "    x_train, y_train = iterator_train.get_next()\n",
    "    x_test, y_test = iterator_test.get_next()\n",
    "    x_val_1, y_val_1 = iterator_val_1.get_next()\n",
    "    x_val_2, y_val_2 = iterator_val_2.get_next()\n",
    "\n",
    "\n",
    "    x_train_copy=tf.identity(x_train,name=None) \n",
    "    y_train_copy=tf.identity(y_train,name=None)\n",
    "\n",
    "\n",
    "    W1=tf.get_variable('weight_1',shape=[29,20],initializer=weight_initializer)\n",
    "    b1=tf.get_variable('bias_1',shape=[20],initializer=bias_initializer)\n",
    "\n",
    "    W2=tf.get_variable('weight_2',shape=[20,8],initializer=weight_initializer)\n",
    "    b2=tf.get_variable('bias_2',shape=[8],initializer=bias_initializer)\n",
    "\n",
    "    W3=tf.get_variable('weight_3',shape=[8,20],initializer=weight_initializer)\n",
    "    b3=tf.get_variable('bias_3',shape=[20],initializer=bias_initializer)\n",
    "\n",
    "    W4=tf.get_variable('weight_4',shape=[20,29],initializer=weight_initializer)\n",
    "\n",
    "    predictions=feed_forward_propagations(x_train_copy)\n",
    "\n",
    "    loss=tf.reduce_mean(tf.square(predictions - x_train_copy))\n",
    "\n",
    "    optimizer= tf.train.AdamOptimizer(learning_rate=0.001, name='adam_optimizer').minimize(loss)\n",
    "\n",
    "    val_loss_op=tf.reduce_mean(tf.square(feed_forward_propagations(x_test)-x_test))\n",
    "\n",
    "    predictions_val_1=feed_forward_propagations(x_val_1)\n",
    "    predictions_val_2=feed_forward_propagations(x_val_2)\n",
    "\n",
    "        ### session started up ###\n",
    "    with tf.Session(graph=training_graph) as sess:    \n",
    "\n",
    "        sess.run(tf.global_variables_initializer())\n",
    "        t = time.process_time()\n",
    "        print('\\n\\n\\nBegin training...')\n",
    "        for epoch in range(0, num_epoch):  \n",
    "\n",
    "            sess.run(iterator_train.initializer)\n",
    "            sess.run(iterator_test.initializer)\n",
    "\n",
    "            temp_loss=0\n",
    "\n",
    "            for iter_nr in range(n_batches-1): \n",
    "\n",
    "                _, l=sess.run((optimizer, loss))\n",
    "                temp_loss+=l\n",
    "\n",
    "                sys.stdout.write('\\r>> Training on batch_nr: %i/%i' % (iter_nr+1, n_batches))\n",
    "                sys.stdout.flush()\n",
    "\n",
    "                if iter_nr>1 and iter_nr%eval_after==0:\n",
    "                    val_loss=sess.run(val_loss_op)\n",
    "                    print('\\n>> epoch_nr: %i, training_loss: %.5f , validation_loss: %.5f' %(epoch+1, \n",
    "                            (temp_loss/eval_after),val_loss))\n",
    "\n",
    "                    temp_loss=0\n",
    "\n",
    "\n",
    "        print('\\n\\nResult of the evaluation on the test set: \\n')\n",
    "\n",
    "        # Test the model after the training is complete with the test dataset\n",
    "        sess.run(iterator_val_1.initializer)\n",
    "        sess.run(iterator_val_2.initializer)\n",
    "\n",
    "        predictions_val_1,x_val_1,y_val_1=sess.run((predictions_val_1,x_val_1,y_val_1))\n",
    "        predictions_val_2,x_val_2,y_val_2=sess.run((predictions_val_2,x_val_2,y_val_2))\n",
    "        "
   ]
  },
  {
   "cell_type": "code",
   "execution_count": 11,
   "metadata": {},
   "outputs": [
    {
     "name": "stdout",
     "output_type": "stream",
     "text": [
      "\n",
      "\n",
      " Time elapsed in process  26.93294055453333\n"
     ]
    }
   ],
   "source": [
    "print(\"\\n\\n Time elapsed in process \",(time.process_time() - t)/60)"
   ]
  },
  {
   "cell_type": "markdown",
   "execution_count": null,
   "metadata": {
    "_cell_guid": "08006eed-89ca-475b-aa35-a4da114c95d9",
    "_uuid": "e7f9440a-08d6-434f-afc0-a1fd50a7caaf"
   },
   "source": [
    "# Analysis on validation set 1"
   ]
  },
  {
   "cell_type": "code",
   "execution_count": 12,
   "metadata": {},
   "outputs": [],
   "source": [
    "import matplotlib.pyplot as plt\n",
    "import seaborn as sns"
   ]
  },
  {
   "cell_type": "code",
   "execution_count": 13,
   "metadata": {},
   "outputs": [
    {
     "data": {
      "text/html": [
       "<div>\n",
       "<style scoped>\n",
       "    .dataframe tbody tr th:only-of-type {\n",
       "        vertical-align: middle;\n",
       "    }\n",
       "\n",
       "    .dataframe tbody tr th {\n",
       "        vertical-align: top;\n",
       "    }\n",
       "\n",
       "    .dataframe thead th {\n",
       "        text-align: right;\n",
       "    }\n",
       "</style>\n",
       "<table border=\"1\" class=\"dataframe\">\n",
       "  <thead>\n",
       "    <tr style=\"text-align: right;\">\n",
       "      <th></th>\n",
       "      <th>reconstruction_error</th>\n",
       "      <th>true_class</th>\n",
       "    </tr>\n",
       "  </thead>\n",
       "  <tbody>\n",
       "    <tr>\n",
       "      <th>count</th>\n",
       "      <td>14462.000000</td>\n",
       "      <td>14462.000000</td>\n",
       "    </tr>\n",
       "    <tr>\n",
       "      <th>mean</th>\n",
       "      <td>0.000564</td>\n",
       "      <td>0.017010</td>\n",
       "    </tr>\n",
       "    <tr>\n",
       "      <th>std</th>\n",
       "      <td>0.002890</td>\n",
       "      <td>0.129313</td>\n",
       "    </tr>\n",
       "    <tr>\n",
       "      <th>min</th>\n",
       "      <td>0.000020</td>\n",
       "      <td>0.000000</td>\n",
       "    </tr>\n",
       "    <tr>\n",
       "      <th>25%</th>\n",
       "      <td>0.000136</td>\n",
       "      <td>0.000000</td>\n",
       "    </tr>\n",
       "    <tr>\n",
       "      <th>50%</th>\n",
       "      <td>0.000208</td>\n",
       "      <td>0.000000</td>\n",
       "    </tr>\n",
       "    <tr>\n",
       "      <th>75%</th>\n",
       "      <td>0.000322</td>\n",
       "      <td>0.000000</td>\n",
       "    </tr>\n",
       "    <tr>\n",
       "      <th>max</th>\n",
       "      <td>0.056624</td>\n",
       "      <td>1.000000</td>\n",
       "    </tr>\n",
       "  </tbody>\n",
       "</table>\n",
       "</div>"
      ],
      "text/plain": [
       "       reconstruction_error    true_class\n",
       "count          14462.000000  14462.000000\n",
       "mean               0.000564      0.017010\n",
       "std                0.002890      0.129313\n",
       "min                0.000020      0.000000\n",
       "25%                0.000136      0.000000\n",
       "50%                0.000208      0.000000\n",
       "75%                0.000322      0.000000\n",
       "max                0.056624      1.000000"
      ]
     },
     "execution_count": 13,
     "metadata": {},
     "output_type": "execute_result"
    }
   ],
   "source": [
    "mse = np.mean(np.power(x_val_1 - predictions_val_1, 2), axis=1)\n",
    "error_df_test = pd.DataFrame({'reconstruction_error': mse,\n",
    "                        'true_class': y_val_1.ravel()})\n",
    "error_df_test.describe()"
   ]
  },
  {
   "cell_type": "code",
   "execution_count": 14,
   "metadata": {},
   "outputs": [
    {
     "data": {
      "text/plain": [
       "Text(0, 0.5, 'Total number of transactions')"
      ]
     },
     "execution_count": 14,
     "metadata": {},
     "output_type": "execute_result"
    },
    {
     "data": {
      "image/png": "[encoded data removed]",
      "text/plain": [
       "<Figure size 864x360 with 2 Axes>"
      ]
     },
     "metadata": {
      "needs_background": "light"
     },
     "output_type": "display_data"
    }
   ],
   "source": [
    "fig = plt.figure(figsize=(12,5))\n",
    "ax = plt.subplot(1,2,1)\n",
    "normal_error_df = error_df_test[(error_df_test['true_class']== 0) & (error_df_test['reconstruction_error'] < 10)]\n",
    "_ = ax.hist(normal_error_df.reconstruction_error.values, bins=200)\n",
    "plt.title(\"Mse spread on normal transaction data\")\n",
    "plt.xlabel(\"mse error\")\n",
    "plt.ylabel(\"Total number of transactions\")\n",
    "\n",
    "ax = plt.subplot(1,2,2)\n",
    "fraud_error_df = error_df_test[error_df_test['true_class'] == 1]\n",
    "_ = ax.hist(fraud_error_df.reconstruction_error.values, bins=100)\n",
    "plt.title(\"Mse spread on fraud transaction data\")\n",
    "plt.xlabel(\"mse error\")\n",
    "plt.ylabel(\"Total number of transactions\")\n"
   ]
  },
  {
   "cell_type": "code",
   "execution_count": 15,
   "metadata": {},
   "outputs": [],
   "source": [
    "error_df_test[\"predicted_class\"]=[1 if x > 0.001 else 0 for x in error_df_test[\"reconstruction_error\"]]"
   ]
  },
  {
   "cell_type": "code",
   "execution_count": 16,
   "metadata": {},
   "outputs": [],
   "source": [
    "from sklearn.metrics import (confusion_matrix, precision_recall_curve, auc,\n",
    "                             roc_curve, recall_score, classification_report, f1_score,\n",
    "                             precision_recall_fscore_support)"
   ]
  },
  {
   "cell_type": "code",
   "execution_count": 17,
   "metadata": {},
   "outputs": [
    {
     "data": {
      "image/png": "[encoded data removed]",
      "text/plain": [
       "<Figure size 432x288 with 1 Axes>"
      ]
     },
     "metadata": {
      "needs_background": "light"
     },
     "output_type": "display_data"
    }
   ],
   "source": [
    "fpr, tpr, thresholds = roc_curve(error_df_test.true_class, error_df_test.reconstruction_error)\n",
    "roc_auc = auc(fpr, tpr)\n",
    "\n",
    "plt.title('Receiver Operating Characteristic')\n",
    "plt.plot(fpr, tpr, label='AUC = %0.4f'% roc_auc)\n",
    "plt.legend(loc='lower right')\n",
    "plt.plot([0,1],[0,1],'r--')\n",
    "plt.xlim([-0.001, 1])\n",
    "plt.ylim([0, 1.001])\n",
    "plt.ylabel('True Positive Rate')\n",
    "plt.xlabel('False Positive Rate')\n",
    "plt.show();\n"
   ]
  },
  {
   "cell_type": "code",
   "execution_count": 18,
   "metadata": {},
   "outputs": [
    {
     "name": "stdout",
     "output_type": "stream",
     "text": [
      "              precision    recall  f1-score   support\n",
      "\n",
      "           0       1.00      0.97      0.98     14216\n",
      "           1       0.32      0.87      0.47       246\n",
      "\n",
      "    accuracy                           0.97     14462\n",
      "   macro avg       0.66      0.92      0.72     14462\n",
      "weighted avg       0.99      0.97      0.97     14462\n",
      "\n"
     ]
    }
   ],
   "source": [
    "print(classification_report(error_df_test[\"true_class\"],error_df_test[\"predicted_class\"]))"
   ]
  },
  {
   "cell_type": "code",
   "execution_count": 19,
   "metadata": {},
   "outputs": [
    {
     "data": {
      "image/png": "[encoded data removed]",
      "text/plain": [
       "<Figure size 576x576 with 2 Axes>"
      ]
     },
     "metadata": {
      "needs_background": "light"
     },
     "output_type": "display_data"
    }
   ],
   "source": [
    "LABELS = [\"Normal\", \"Fraud\"]\n",
    "y_pred = [1 if e > 0.001 else 0 for e in error_df_test.reconstruction_error.values]\n",
    "conf_matrix = confusion_matrix(error_df_test.true_class,error_df_test.predicted_class)\n",
    "plt.figure(figsize=(8, 8))\n",
    "sns.heatmap(conf_matrix, xticklabels=LABELS, yticklabels=LABELS, annot=True, fmt=\"d\");\n",
    "plt.title(\"Confusion matrix\")\n",
    "plt.ylabel('True class')\n",
    "plt.xlabel('Predicted class')\n",
    "plt.show()"
   ]
  },
  {
   "cell_type": "markdown",
   "execution_count": null,
   "metadata": {},
   "source": [
    "# Analysis on validation set 2"
   ]
  },
  {
   "cell_type": "code",
   "execution_count": 20,
   "metadata": {},
   "outputs": [
    {
     "data": {
      "text/html": [
       "<div>\n",
       "<style scoped>\n",
       "    .dataframe tbody tr th:only-of-type {\n",
       "        vertical-align: middle;\n",
       "    }\n",
       "\n",
       "    .dataframe tbody tr th {\n",
       "        vertical-align: top;\n",
       "    }\n",
       "\n",
       "    .dataframe thead th {\n",
       "        text-align: right;\n",
       "    }\n",
       "</style>\n",
       "<table border=\"1\" class=\"dataframe\">\n",
       "  <thead>\n",
       "    <tr style=\"text-align: right;\">\n",
       "      <th></th>\n",
       "      <th>reconstruction_error</th>\n",
       "      <th>true_class</th>\n",
       "    </tr>\n",
       "  </thead>\n",
       "  <tbody>\n",
       "    <tr>\n",
       "      <th>count</th>\n",
       "      <td>13751.000000</td>\n",
       "      <td>13751.000000</td>\n",
       "    </tr>\n",
       "    <tr>\n",
       "      <th>mean</th>\n",
       "      <td>0.000590</td>\n",
       "      <td>0.017890</td>\n",
       "    </tr>\n",
       "    <tr>\n",
       "      <th>std</th>\n",
       "      <td>0.003098</td>\n",
       "      <td>0.132555</td>\n",
       "    </tr>\n",
       "    <tr>\n",
       "      <th>min</th>\n",
       "      <td>0.000016</td>\n",
       "      <td>0.000000</td>\n",
       "    </tr>\n",
       "    <tr>\n",
       "      <th>25%</th>\n",
       "      <td>0.000137</td>\n",
       "      <td>0.000000</td>\n",
       "    </tr>\n",
       "    <tr>\n",
       "      <th>50%</th>\n",
       "      <td>0.000210</td>\n",
       "      <td>0.000000</td>\n",
       "    </tr>\n",
       "    <tr>\n",
       "      <th>75%</th>\n",
       "      <td>0.000328</td>\n",
       "      <td>0.000000</td>\n",
       "    </tr>\n",
       "    <tr>\n",
       "      <th>max</th>\n",
       "      <td>0.066778</td>\n",
       "      <td>1.000000</td>\n",
       "    </tr>\n",
       "  </tbody>\n",
       "</table>\n",
       "</div>"
      ],
      "text/plain": [
       "       reconstruction_error    true_class\n",
       "count          13751.000000  13751.000000\n",
       "mean               0.000590      0.017890\n",
       "std                0.003098      0.132555\n",
       "min                0.000016      0.000000\n",
       "25%                0.000137      0.000000\n",
       "50%                0.000210      0.000000\n",
       "75%                0.000328      0.000000\n",
       "max                0.066778      1.000000"
      ]
     },
     "execution_count": 20,
     "metadata": {},
     "output_type": "execute_result"
    }
   ],
   "source": [
    "mse = np.mean(np.power(x_val_2 - predictions_val_2, 2), axis=1)\n",
    "error_df_test = pd.DataFrame({'reconstruction_error': mse,\n",
    "                        'true_class': y_val_2.ravel()})\n",
    "error_df_test.describe()"
   ]
  },
  {
   "cell_type": "code",
   "execution_count": 21,
   "metadata": {},
   "outputs": [
    {
     "data": {
      "text/plain": [
       "Text(0, 0.5, 'Total number of transactions')"
      ]
     },
     "execution_count": 21,
     "metadata": {},
     "output_type": "execute_result"
    },
    {
     "data": {
      "image/png": "[encoded data removed]",
      "text/plain": [
       "<Figure size 864x360 with 2 Axes>"
      ]
     },
     "metadata": {
      "needs_background": "light"
     },
     "output_type": "display_data"
    }
   ],
   "source": [
    "fig = plt.figure(figsize=(12,5))\n",
    "ax = plt.subplot(1,2,1)\n",
    "normal_error_df = error_df_test[(error_df_test['true_class']== 0) & (error_df_test['reconstruction_error'] < 10)]\n",
    "_ = ax.hist(normal_error_df.reconstruction_error.values, bins=200)\n",
    "plt.title(\"Mse spread on normal transaction data\")\n",
    "plt.xlabel(\"mse error\")\n",
    "plt.ylabel(\"Total number of transactions\")\n",
    "\n",
    "ax = plt.subplot(1,2,2)\n",
    "fraud_error_df = error_df_test[error_df_test['true_class'] == 1]\n",
    "_ = ax.hist(fraud_error_df.reconstruction_error.values, bins=100)\n",
    "plt.title(\"Mse spread on fraud transaction data\")\n",
    "plt.xlabel(\"mse error\")\n",
    "plt.ylabel(\"Total number of transactions\")\n"
   ]
  },
  {
   "cell_type": "code",
   "execution_count": 22,
   "metadata": {},
   "outputs": [],
   "source": [
    "error_df_test[\"predicted_class\"]=[1 if x > 0.001 else 0 for x in error_df_test[\"reconstruction_error\"]]"
   ]
  },
  {
   "cell_type": "code",
   "execution_count": 23,
   "metadata": {},
   "outputs": [
    {
     "name": "stdout",
     "output_type": "stream",
     "text": [
      "              precision    recall  f1-score   support\n",
      "\n",
      "           0       1.00      0.97      0.98     13505\n",
      "           1       0.32      0.85      0.46       246\n",
      "\n",
      "    accuracy                           0.96     13751\n",
      "   macro avg       0.66      0.91      0.72     13751\n",
      "weighted avg       0.98      0.96      0.97     13751\n",
      "\n"
     ]
    }
   ],
   "source": [
    "print(classification_report(error_df_test[\"true_class\"],error_df_test[\"predicted_class\"]))"
   ]
  },
  {
   "cell_type": "code",
   "execution_count": 24,
   "metadata": {},
   "outputs": [
    {
     "data": {
      "image/png": "[encoded data removed]",
      "text/plain": [
       "<Figure size 576x576 with 2 Axes>"
      ]
     },
     "metadata": {
      "needs_background": "light"
     },
     "output_type": "display_data"
    }
   ],
   "source": [
    "LABELS = [\"Normal\", \"Fraud\"]\n",
    "y_pred = [1 if e > 0.001 else 0 for e in error_df_test.reconstruction_error.values]\n",
    "conf_matrix = confusion_matrix(error_df_test.true_class,error_df_test.predicted_class)\n",
    "plt.figure(figsize=(8, 8))\n",
    "sns.heatmap(conf_matrix, xticklabels=LABELS, yticklabels=LABELS, annot=True, fmt=\"d\");\n",
    "plt.title(\"Confusion matrix\")\n",
    "plt.ylabel('True class')\n",
    "plt.xlabel('Predicted class')\n",
    "plt.show()"
   ]
  }
 ],
 "metadata": {
  "kernelspec": {
   "display_name": "Python 3",
   "language": "python",
   "name": "python3"
  },
  "language_info": {
   "codemirror_mode": {
    "name": "ipython",
    "version": 3
   },
   "file_extension": ".py",
   "mimetype": "text/x-python",
   "name": "python",
   "nbconvert_exporter": "python",
   "pygments_lexer": "ipython3",
   "version": "3.7.6"
  }
 },
 "nbformat": 4,
 "nbformat_minor": 4
}
